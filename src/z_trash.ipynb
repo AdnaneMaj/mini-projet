{
 "cells": [
  {
   "cell_type": "code",
   "execution_count": 1,
   "metadata": {},
   "outputs": [],
   "source": [
    "from models.NoaaDataModel import NooaDataModel\n",
    "from models.NoaaParserModel import NoaaParserModel\n",
    "\n",
    "noaa_parser = NoaaParserModel()\n",
    "\n",
    "noaa = NooaDataModel()"
   ]
  },
  {
   "cell_type": "code",
   "execution_count": 2,
   "metadata": {},
   "outputs": [
    {
     "data": {
      "text/plain": [
       "True"
      ]
     },
     "execution_count": 2,
     "metadata": {},
     "output_type": "execute_result"
    }
   ],
   "source": [
    "noaa.download_to_hdfs(\"029070-99999\")"
   ]
  },
  {
   "cell_type": "code",
   "execution_count": 2,
   "metadata": {},
   "outputs": [],
   "source": [
    "#noaa.empty_folder(\"NOAA/029070-99999\")\n",
    "noaa.download_in_shared_volume()"
   ]
  },
  {
   "cell_type": "code",
   "execution_count": null,
   "metadata": {},
   "outputs": [
    {
     "data": {
      "text/plain": [
       "True"
      ]
     },
     "execution_count": 3,
     "metadata": {},
     "output_type": "execute_result"
    }
   ],
   "source": [
    "noaa.move_to_hdfs(\"029070-99999\")"
   ]
  },
  {
   "cell_type": "code",
   "execution_count": 9,
   "metadata": {},
   "outputs": [],
   "source": [
    "if []:\n",
    "    print(\"Prob\")"
   ]
  },
  {
   "cell_type": "code",
   "execution_count": 2,
   "metadata": {},
   "outputs": [
    {
     "name": "stdout",
     "output_type": "stream",
     "text": [
      "Deleted /user/root/NOAA/033020-99999\n",
      "CompletedProcess(args=['docker', 'exec', 'hadoop-master', 'hadoop', 'fs', '-test', '-d', 'NOAA/033020-99999'], returncode=1, stdout=b'', stderr=b'')\n",
      "{'start': '1926', 'end': '2024', 'station': 'VALLEY', 'country': 'UK'} 1926 2024\n"
     ]
    },
    {
     "data": {
      "text/plain": [
       "['https://www1.ncdc.noaa.gov/pub/data/noaa/1926/033020-99999-1926.gz',\n",
       " 'https://www1.ncdc.noaa.gov/pub/data/noaa/1927/033020-99999-1927.gz',\n",
       " 'https://www1.ncdc.noaa.gov/pub/data/noaa/1928/033020-99999-1928.gz',\n",
       " 'https://www1.ncdc.noaa.gov/pub/data/noaa/1929/033020-99999-1929.gz',\n",
       " 'https://www1.ncdc.noaa.gov/pub/data/noaa/1930/033020-99999-1930.gz',\n",
       " 'https://www1.ncdc.noaa.gov/pub/data/noaa/1931/033020-99999-1931.gz',\n",
       " 'https://www1.ncdc.noaa.gov/pub/data/noaa/1932/033020-99999-1932.gz',\n",
       " 'https://www1.ncdc.noaa.gov/pub/data/noaa/1933/033020-99999-1933.gz',\n",
       " 'https://www1.ncdc.noaa.gov/pub/data/noaa/1934/033020-99999-1934.gz',\n",
       " 'https://www1.ncdc.noaa.gov/pub/data/noaa/1935/033020-99999-1935.gz',\n",
       " 'https://www1.ncdc.noaa.gov/pub/data/noaa/1936/033020-99999-1936.gz',\n",
       " 'https://www1.ncdc.noaa.gov/pub/data/noaa/1937/033020-99999-1937.gz',\n",
       " 'https://www1.ncdc.noaa.gov/pub/data/noaa/1938/033020-99999-1938.gz',\n",
       " 'https://www1.ncdc.noaa.gov/pub/data/noaa/1939/033020-99999-1939.gz',\n",
       " 'https://www1.ncdc.noaa.gov/pub/data/noaa/1940/033020-99999-1940.gz',\n",
       " 'https://www1.ncdc.noaa.gov/pub/data/noaa/1941/033020-99999-1941.gz',\n",
       " 'https://www1.ncdc.noaa.gov/pub/data/noaa/1942/033020-99999-1942.gz',\n",
       " 'https://www1.ncdc.noaa.gov/pub/data/noaa/1943/033020-99999-1943.gz',\n",
       " 'https://www1.ncdc.noaa.gov/pub/data/noaa/1944/033020-99999-1944.gz',\n",
       " 'https://www1.ncdc.noaa.gov/pub/data/noaa/1945/033020-99999-1945.gz',\n",
       " 'https://www1.ncdc.noaa.gov/pub/data/noaa/1946/033020-99999-1946.gz',\n",
       " 'https://www1.ncdc.noaa.gov/pub/data/noaa/1947/033020-99999-1947.gz',\n",
       " 'https://www1.ncdc.noaa.gov/pub/data/noaa/1948/033020-99999-1948.gz',\n",
       " 'https://www1.ncdc.noaa.gov/pub/data/noaa/1949/033020-99999-1949.gz',\n",
       " 'https://www1.ncdc.noaa.gov/pub/data/noaa/1950/033020-99999-1950.gz',\n",
       " 'https://www1.ncdc.noaa.gov/pub/data/noaa/1951/033020-99999-1951.gz',\n",
       " 'https://www1.ncdc.noaa.gov/pub/data/noaa/1952/033020-99999-1952.gz',\n",
       " 'https://www1.ncdc.noaa.gov/pub/data/noaa/1953/033020-99999-1953.gz',\n",
       " 'https://www1.ncdc.noaa.gov/pub/data/noaa/1954/033020-99999-1954.gz',\n",
       " 'https://www1.ncdc.noaa.gov/pub/data/noaa/1955/033020-99999-1955.gz',\n",
       " 'https://www1.ncdc.noaa.gov/pub/data/noaa/1956/033020-99999-1956.gz',\n",
       " 'https://www1.ncdc.noaa.gov/pub/data/noaa/1957/033020-99999-1957.gz',\n",
       " 'https://www1.ncdc.noaa.gov/pub/data/noaa/1958/033020-99999-1958.gz',\n",
       " 'https://www1.ncdc.noaa.gov/pub/data/noaa/1959/033020-99999-1959.gz',\n",
       " 'https://www1.ncdc.noaa.gov/pub/data/noaa/1960/033020-99999-1960.gz',\n",
       " 'https://www1.ncdc.noaa.gov/pub/data/noaa/1961/033020-99999-1961.gz',\n",
       " 'https://www1.ncdc.noaa.gov/pub/data/noaa/1962/033020-99999-1962.gz',\n",
       " 'https://www1.ncdc.noaa.gov/pub/data/noaa/1963/033020-99999-1963.gz',\n",
       " 'https://www1.ncdc.noaa.gov/pub/data/noaa/1964/033020-99999-1964.gz',\n",
       " 'https://www1.ncdc.noaa.gov/pub/data/noaa/1965/033020-99999-1965.gz',\n",
       " 'https://www1.ncdc.noaa.gov/pub/data/noaa/1966/033020-99999-1966.gz',\n",
       " 'https://www1.ncdc.noaa.gov/pub/data/noaa/1967/033020-99999-1967.gz',\n",
       " 'https://www1.ncdc.noaa.gov/pub/data/noaa/1968/033020-99999-1968.gz',\n",
       " 'https://www1.ncdc.noaa.gov/pub/data/noaa/1969/033020-99999-1969.gz',\n",
       " 'https://www1.ncdc.noaa.gov/pub/data/noaa/1970/033020-99999-1970.gz',\n",
       " 'https://www1.ncdc.noaa.gov/pub/data/noaa/1971/033020-99999-1971.gz',\n",
       " 'https://www1.ncdc.noaa.gov/pub/data/noaa/1972/033020-99999-1972.gz',\n",
       " 'https://www1.ncdc.noaa.gov/pub/data/noaa/1973/033020-99999-1973.gz',\n",
       " 'https://www1.ncdc.noaa.gov/pub/data/noaa/1974/033020-99999-1974.gz',\n",
       " 'https://www1.ncdc.noaa.gov/pub/data/noaa/1975/033020-99999-1975.gz',\n",
       " 'https://www1.ncdc.noaa.gov/pub/data/noaa/1976/033020-99999-1976.gz',\n",
       " 'https://www1.ncdc.noaa.gov/pub/data/noaa/1977/033020-99999-1977.gz',\n",
       " 'https://www1.ncdc.noaa.gov/pub/data/noaa/1978/033020-99999-1978.gz',\n",
       " 'https://www1.ncdc.noaa.gov/pub/data/noaa/1979/033020-99999-1979.gz',\n",
       " 'https://www1.ncdc.noaa.gov/pub/data/noaa/1980/033020-99999-1980.gz',\n",
       " 'https://www1.ncdc.noaa.gov/pub/data/noaa/1981/033020-99999-1981.gz',\n",
       " 'https://www1.ncdc.noaa.gov/pub/data/noaa/1982/033020-99999-1982.gz',\n",
       " 'https://www1.ncdc.noaa.gov/pub/data/noaa/1983/033020-99999-1983.gz',\n",
       " 'https://www1.ncdc.noaa.gov/pub/data/noaa/1984/033020-99999-1984.gz',\n",
       " 'https://www1.ncdc.noaa.gov/pub/data/noaa/1985/033020-99999-1985.gz',\n",
       " 'https://www1.ncdc.noaa.gov/pub/data/noaa/1986/033020-99999-1986.gz',\n",
       " 'https://www1.ncdc.noaa.gov/pub/data/noaa/1987/033020-99999-1987.gz',\n",
       " 'https://www1.ncdc.noaa.gov/pub/data/noaa/1988/033020-99999-1988.gz',\n",
       " 'https://www1.ncdc.noaa.gov/pub/data/noaa/1989/033020-99999-1989.gz',\n",
       " 'https://www1.ncdc.noaa.gov/pub/data/noaa/1990/033020-99999-1990.gz',\n",
       " 'https://www1.ncdc.noaa.gov/pub/data/noaa/1991/033020-99999-1991.gz',\n",
       " 'https://www1.ncdc.noaa.gov/pub/data/noaa/1992/033020-99999-1992.gz',\n",
       " 'https://www1.ncdc.noaa.gov/pub/data/noaa/1993/033020-99999-1993.gz',\n",
       " 'https://www1.ncdc.noaa.gov/pub/data/noaa/1994/033020-99999-1994.gz',\n",
       " 'https://www1.ncdc.noaa.gov/pub/data/noaa/1995/033020-99999-1995.gz',\n",
       " 'https://www1.ncdc.noaa.gov/pub/data/noaa/1996/033020-99999-1996.gz',\n",
       " 'https://www1.ncdc.noaa.gov/pub/data/noaa/1997/033020-99999-1997.gz',\n",
       " 'https://www1.ncdc.noaa.gov/pub/data/noaa/1998/033020-99999-1998.gz',\n",
       " 'https://www1.ncdc.noaa.gov/pub/data/noaa/1999/033020-99999-1999.gz',\n",
       " 'https://www1.ncdc.noaa.gov/pub/data/noaa/2000/033020-99999-2000.gz',\n",
       " 'https://www1.ncdc.noaa.gov/pub/data/noaa/2001/033020-99999-2001.gz',\n",
       " 'https://www1.ncdc.noaa.gov/pub/data/noaa/2002/033020-99999-2002.gz',\n",
       " 'https://www1.ncdc.noaa.gov/pub/data/noaa/2003/033020-99999-2003.gz',\n",
       " 'https://www1.ncdc.noaa.gov/pub/data/noaa/2004/033020-99999-2004.gz',\n",
       " 'https://www1.ncdc.noaa.gov/pub/data/noaa/2005/033020-99999-2005.gz',\n",
       " 'https://www1.ncdc.noaa.gov/pub/data/noaa/2006/033020-99999-2006.gz',\n",
       " 'https://www1.ncdc.noaa.gov/pub/data/noaa/2007/033020-99999-2007.gz',\n",
       " 'https://www1.ncdc.noaa.gov/pub/data/noaa/2008/033020-99999-2008.gz',\n",
       " 'https://www1.ncdc.noaa.gov/pub/data/noaa/2009/033020-99999-2009.gz',\n",
       " 'https://www1.ncdc.noaa.gov/pub/data/noaa/2010/033020-99999-2010.gz',\n",
       " 'https://www1.ncdc.noaa.gov/pub/data/noaa/2011/033020-99999-2011.gz',\n",
       " 'https://www1.ncdc.noaa.gov/pub/data/noaa/2012/033020-99999-2012.gz',\n",
       " 'https://www1.ncdc.noaa.gov/pub/data/noaa/2013/033020-99999-2013.gz',\n",
       " 'https://www1.ncdc.noaa.gov/pub/data/noaa/2014/033020-99999-2014.gz',\n",
       " 'https://www1.ncdc.noaa.gov/pub/data/noaa/2015/033020-99999-2015.gz',\n",
       " 'https://www1.ncdc.noaa.gov/pub/data/noaa/2016/033020-99999-2016.gz',\n",
       " 'https://www1.ncdc.noaa.gov/pub/data/noaa/2017/033020-99999-2017.gz',\n",
       " 'https://www1.ncdc.noaa.gov/pub/data/noaa/2018/033020-99999-2018.gz',\n",
       " 'https://www1.ncdc.noaa.gov/pub/data/noaa/2019/033020-99999-2019.gz',\n",
       " 'https://www1.ncdc.noaa.gov/pub/data/noaa/2020/033020-99999-2020.gz',\n",
       " 'https://www1.ncdc.noaa.gov/pub/data/noaa/2021/033020-99999-2021.gz',\n",
       " 'https://www1.ncdc.noaa.gov/pub/data/noaa/2022/033020-99999-2022.gz',\n",
       " 'https://www1.ncdc.noaa.gov/pub/data/noaa/2023/033020-99999-2023.gz',\n",
       " 'https://www1.ncdc.noaa.gov/pub/data/noaa/2024/033020-99999-2024.gz']"
      ]
     },
     "execution_count": 2,
     "metadata": {},
     "output_type": "execute_result"
    }
   ],
   "source": [
    "noaa.empty_folder(\"NOAA/033020-99999\")\n",
    "a = noaa.download_in_shared_volume(\"033020-99999\")\n",
    "a"
   ]
  },
  {
   "cell_type": "code",
   "execution_count": null,
   "metadata": {},
   "outputs": [
    {
     "data": {
      "text/plain": [
       "99"
      ]
     },
     "execution_count": 3,
     "metadata": {},
     "output_type": "execute_result"
    }
   ],
   "source": [
    "'https://www1.ncdc.noaa.gov/pub/data/noaa/1926/033020-99999-1926.gz'"
   ]
  },
  {
   "cell_type": "code",
   "execution_count": 5,
   "metadata": {},
   "outputs": [
    {
     "data": {
      "text/plain": [
       "'https://www1.ncdc.noaa.gov/pub/data/noaa/1926/033020-99999-1926.gz'"
      ]
     },
     "execution_count": 5,
     "metadata": {},
     "output_type": "execute_result"
    }
   ],
   "source": [
    "a[0]"
   ]
  },
  {
   "cell_type": "code",
   "execution_count": null,
   "metadata": {},
   "outputs": [],
   "source": [
    "for year,dict in noaa.data.items():\n",
    "    if 1990 <= int(year) <= 2010:\n",
    "        print(len(dict[\"USAF\"]))"
   ]
  },
  {
   "cell_type": "code",
   "execution_count": null,
   "metadata": {},
   "outputs": [],
   "source": [
    "noaa.data = noaa.load_json(noaa.data_file)"
   ]
  },
  {
   "cell_type": "code",
   "execution_count": null,
   "metadata": {},
   "outputs": [],
   "source": [
    "def hh():\n",
    "    try:\n",
    "        with open(\"hhh.txt\",\"r\") as file:\n",
    "            g = file.readlines()\n",
    "    except FileNotFoundError:\n",
    "        return\n",
    "    print(\"*\")\n",
    "\n",
    "\n",
    "hh()"
   ]
  },
  {
   "cell_type": "code",
   "execution_count": null,
   "metadata": {},
   "outputs": [],
   "source": []
  }
 ],
 "metadata": {
  "kernelspec": {
   "display_name": "noaa-env",
   "language": "python",
   "name": "python3"
  },
  "language_info": {
   "codemirror_mode": {
    "name": "ipython",
    "version": 3
   },
   "file_extension": ".py",
   "mimetype": "text/x-python",
   "name": "python",
   "nbconvert_exporter": "python",
   "pygments_lexer": "ipython3",
   "version": "3.13.0"
  }
 },
 "nbformat": 4,
 "nbformat_minor": 2
}
